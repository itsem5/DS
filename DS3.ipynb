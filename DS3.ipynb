{
 "cells": [
  {
   "cell_type": "code",
   "execution_count": 6,
   "id": "8773ac30",
   "metadata": {},
   "outputs": [
    {
     "name": "stdout",
     "output_type": "stream",
     "text": [
      "Original array: [ 1  2  3  4  5  6  7  8  9 10 11 12]\n",
      "Processor 0: received [ 1  2  3  4  5  6  7  8  9 10 11 12], local sum = 78\n",
      "\n",
      "Intermediate sums from all processors: [78]\n",
      "Final total sum: 78\n"
     ]
    }
   ],
   "source": [
    "from mpi4py import MPI\n",
    "import numpy as np\n",
    "\n",
    "# Initialize MPI\n",
    "comm = MPI.COMM_WORLD\n",
    "rank = comm.Get_rank()\n",
    "size = comm.Get_size()\n",
    "\n",
    "# Master process initializes data\n",
    "if rank == 0:\n",
    "    N = 12  # Total number of elements\n",
    "    data = np.arange(1, N + 1)\n",
    "    print(f\"Original array: {data}\")\n",
    "\n",
    "    # Pad data if not divisible by number of processors\n",
    "    if N % size != 0:\n",
    "        pad_size = size - (N % size)\n",
    "        data = np.pad(data, (0, pad_size), mode='constant')\n",
    "\n",
    "    chunks = np.array_split(data, size)\n",
    "else:\n",
    "    chunks = None\n",
    "\n",
    "# Scatter the data\n",
    "local_data = comm.scatter(chunks, root=0)\n",
    "\n",
    "# Each processor computes its local sum\n",
    "local_sum = np.sum(local_data)\n",
    "print(f\"Processor {rank}: received {local_data}, local sum = {local_sum}\")\n",
    "\n",
    "# Gather the local sums to the master\n",
    "all_sums = comm.gather(local_sum, root=0)\n",
    "\n",
    "# Final sum calculation at master\n",
    "if rank == 0:\n",
    "    total_sum = sum(all_sums)\n",
    "    print(f\"\\nIntermediate sums from all processors: {all_sums}\")\n",
    "    print(f\"Final total sum: {total_sum}\")\n"
   ]
  },
  {
   "cell_type": "code",
   "execution_count": null,
   "id": "27091de5",
   "metadata": {},
   "outputs": [],
   "source": []
  }
 ],
 "metadata": {
  "kernelspec": {
   "display_name": "Python 3 (ipykernel)",
   "language": "python",
   "name": "python3"
  },
  "language_info": {
   "codemirror_mode": {
    "name": "ipython",
    "version": 3
   },
   "file_extension": ".py",
   "mimetype": "text/x-python",
   "name": "python",
   "nbconvert_exporter": "python",
   "pygments_lexer": "ipython3",
   "version": "3.11.5"
  }
 },
 "nbformat": 4,
 "nbformat_minor": 5
}
