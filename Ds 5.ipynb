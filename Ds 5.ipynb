{
 "cells": [
  {
   "cell_type": "code",
   "execution_count": null,
   "id": "b7ebcfe7-4b25-426b-bf88-e87f236eabb3",
   "metadata": {},
   "outputs": [
    {
     "name": "stdin",
     "output_type": "stream",
     "text": [
      "Enter the number of nodes you want in the ring:  5\n"
     ]
    },
    {
     "name": "stdout",
     "output_type": "stream",
     "text": [
      "Ring Formed is as below: \n",
      "0 1 2 3 4 0 (loop back to Node 0)\n",
      "Note: Initialy Token is at Node 0\n"
     ]
    },
    {
     "name": "stdin",
     "output_type": "stream",
     "text": [
      "\n",
      "Enter Sender:  2\n",
      "\n",
      "Enter Receiver:  4\n",
      "\n",
      "Enter Data to Send:  5\n"
     ]
    },
    {
     "name": "stdout",
     "output_type": "stream",
     "text": [
      "\n",
      "Sender is 2 and Sending Data is 5\n",
      "\n",
      "Token Passing: [Previous Node -> Next Node]\n",
      " 0 -> 1 -> 2\n",
      "Note: Current Token is at Node 2\n",
      "\n",
      "Data Passing: [Previous Node -> Next Node]\n",
      " 2 -> 3 -> 4\n",
      "\n",
      "Receiver: 4, Received the data: 5\n"
     ]
    }
   ],
   "source": [
    "def token_ring():\n",
    "    n = int(input(\"Enter the number of nodes you want in the ring: \"))\n",
    "\n",
    "    # Displaying the ring formation\n",
    "    print(\"Ring Formed is as below: \")\n",
    "    for i in range(n):\n",
    "        print(f\"{i} \", end=\"\")\n",
    "    print(\"0 (loop back to Node 0)\")\n",
    "    print(\"Note: Initialy Token is at Node 0\")\n",
    "\n",
    "    token = 0  # Initial token position\n",
    "    choice = 1\n",
    "\n",
    "    while choice == 1:\n",
    "        # Sender input with validation\n",
    "        while True:\n",
    "            sender = int(input(\"\\nEnter Sender: \"))\n",
    "            if sender < 0 or sender >= n:\n",
    "                print(f\"Enter valid sender between 0 & {n - 1}\")\n",
    "            else:\n",
    "                break\n",
    "\n",
    "        # Receiver input with validation\n",
    "        while True:\n",
    "            receiver = int(input(\"\\nEnter Receiver: \"))\n",
    "            if receiver < 0 or receiver >= n:\n",
    "                print(f\"Enter valid receiver between 0 & {n - 1}\")\n",
    "            else:\n",
    "                break\n",
    "\n",
    "        data = int(input(\"\\nEnter Data to Send: \"))\n",
    "\n",
    "        print(f\"\\nSender is {sender} and Sending Data is {data}\")\n",
    "\n",
    "        # Token Passing\n",
    "        print(\"\\nToken Passing: [Previous Node -> Next Node]\")\n",
    "        i = token\n",
    "        while i != sender:\n",
    "            print(f\" {i} ->\", end=\"\")\n",
    "            i = (i + 1) % n\n",
    "        print(f\" {sender}\")\n",
    "        print(f\"Note: Current Token is at Node {sender}\")\n",
    "\n",
    "        # Data Passing\n",
    "        print(\"\\nData Passing: [Previous Node -> Next Node]\")\n",
    "        i = sender\n",
    "        while i != receiver:\n",
    "            print(f\" {i} ->\", end=\"\")\n",
    "            i = (i + 1) % n\n",
    "        print(f\" {receiver}\")\n",
    "        print(f\"\\nReceiver: {receiver}, Received the data: {data}\")\n",
    "\n",
    "        # Update token holder\n",
    "        token = sender\n",
    "\n",
    "        # Ask user to continue\n",
    "        choice = int(input(\"\\nDo you want to send data again? If yes Enter 1, If no Enter 0: \"))\n",
    "\n",
    "# Run the program\n",
    "if __name__ == \"__main__\":\n",
    "    token_ring()\n"
   ]
  },
  {
   "cell_type": "code",
   "execution_count": null,
   "id": "0511bb74-2874-4a78-82bc-0ec0af2e66db",
   "metadata": {},
   "outputs": [],
   "source": []
  }
 ],
 "metadata": {
  "kernelspec": {
   "display_name": "Python 3 (ipykernel)",
   "language": "python",
   "name": "python3"
  },
  "language_info": {
   "codemirror_mode": {
    "name": "ipython",
    "version": 3
   },
   "file_extension": ".py",
   "mimetype": "text/x-python",
   "name": "python",
   "nbconvert_exporter": "python",
   "pygments_lexer": "ipython3",
   "version": "3.12.7"
  }
 },
 "nbformat": 4,
 "nbformat_minor": 5
}
