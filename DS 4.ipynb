{
 "cells": [
  {
   "cell_type": "code",
   "execution_count": 3,
   "id": "4228c9d7-4832-4b50-a55b-7e29fee1aff2",
   "metadata": {},
   "outputs": [
    {
     "name": "stdout",
     "output_type": "stream",
     "text": [
      "Initial Clocks:\n",
      "Server: 10000 sec\n",
      "Client_1: 10020 sec\n",
      "Client_2: 9980 sec\n",
      "Client_3: 10010 sec\n",
      "Client_4: 10050 sec\n",
      "\n",
      "Adjusted Clocks:\n",
      "Server: 10016.38 sec\n",
      "Client_1: 10014.88 sec\n",
      "Client_2: 10014.38 sec\n",
      "Client_3: 10015.38 sec\n",
      "Client_4: 10015.38 sec\n"
     ]
    }
   ],
   "source": [
    "import random\n",
    "\n",
    "# Simulated system clocks (in seconds), where \"Server\" is the central clock\n",
    "clocks = {\n",
    "    \"Server\": 10000,\n",
    "    \"Client_1\": 10020,\n",
    "    \"Client_2\": 9980,\n",
    "    \"Client_3\": 10010,\n",
    "    \"Client_4\": 10050\n",
    "}\n",
    "\n",
    "# Simulated round trip delays (in seconds) for each client\n",
    "delays = {\n",
    "    \"Client_1\": random.randint(1, 5),\n",
    "    \"Client_2\": random.randint(1, 5),\n",
    "    \"Client_3\": random.randint(1, 5),\n",
    "    \"Client_4\": random.randint(1, 5)\n",
    "}\n",
    "\n",
    "def berkeley_algorithm(server_clock, clocks, delays):\n",
    "    print(\"Initial Clocks:\")\n",
    "    for node, time in clocks.items():\n",
    "        print(f\"{node}: {time} sec\")\n",
    "\n",
    "    # Step 1: Server polls all clients\n",
    "    time_differences = {}\n",
    "    for client, client_time in clocks.items():\n",
    "        if client != \"Server\":\n",
    "            delay = delays[client] / 2  # One-way delay estimation\n",
    "            estimated_time = client_time + delay\n",
    "            time_diff = estimated_time - server_clock\n",
    "            time_differences[client] = time_diff\n",
    "\n",
    "    # Step 2: Server calculates average time difference\n",
    "    avg_diff = sum(time_differences.values()) / len(time_differences)\n",
    "\n",
    "    # Step 3: Server updates its own clock\n",
    "    clocks[\"Server\"] += avg_diff\n",
    "\n",
    "    # Step 4: Server sends adjustment to each client\n",
    "    for client, diff in time_differences.items():\n",
    "        adjustment = avg_diff - diff\n",
    "        clocks[client] += adjustment\n",
    "\n",
    "    print(\"\\nAdjusted Clocks:\")\n",
    "    for node, time in clocks.items():\n",
    "        print(f\"{node}: {round(time, 2)} sec\")\n",
    "\n",
    "# Run the algorithm\n",
    "berkeley_algorithm(clocks[\"Server\"], clocks, delays)\n"
   ]
  },
  {
   "cell_type": "code",
   "execution_count": null,
   "id": "fc6b0ca3-e619-40cc-be60-b171f3f00f73",
   "metadata": {},
   "outputs": [],
   "source": []
  }
 ],
 "metadata": {
  "kernelspec": {
   "display_name": "Python 3 (ipykernel)",
   "language": "python",
   "name": "python3"
  },
  "language_info": {
   "codemirror_mode": {
    "name": "ipython",
    "version": 3
   },
   "file_extension": ".py",
   "mimetype": "text/x-python",
   "name": "python",
   "nbconvert_exporter": "python",
   "pygments_lexer": "ipython3",
   "version": "3.12.7"
  }
 },
 "nbformat": 4,
 "nbformat_minor": 5
}
